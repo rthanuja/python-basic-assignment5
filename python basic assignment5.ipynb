{
 "cells": [
  {
   "cell_type": "code",
   "execution_count": null,
   "id": "2dbdc450",
   "metadata": {},
   "outputs": [],
   "source": [
    "#1. What does an empty dictionary's code look like?\n",
    "d={}"
   ]
  },
  {
   "cell_type": "code",
   "execution_count": null,
   "id": "07caa1c2",
   "metadata": {},
   "outputs": [],
   "source": [
    "#2. What is the value of a dictionary value with the key 'foo' and the value 42?\n",
    "{'foo': 42}"
   ]
  },
  {
   "cell_type": "code",
   "execution_count": null,
   "id": "1b6b6bf3",
   "metadata": {},
   "outputs": [],
   "source": [
    "#3. What is the most significant distinction between a dictionary and a list?\n",
    "dictionary is a hashed structure of key value pairs whereas list is an index value pair.\n",
    "dictionary is unordered collection of data whereas list is a ordered collection of data."
   ]
  },
  {
   "cell_type": "code",
   "execution_count": null,
   "id": "40794a6c",
   "metadata": {},
   "outputs": [],
   "source": [
    "#4. What happens if you try to access spam['foo'] if spam is {'bar': 100}?\n",
    "it will throw KeyError"
   ]
  },
  {
   "cell_type": "code",
   "execution_count": null,
   "id": "9957dd86",
   "metadata": {},
   "outputs": [],
   "source": [
    "# 5. If a dictionary is stored in spam, what is the difference between the expressions 'cat' in spam and\n",
    "#'cat' in spam.keys()?\n",
    "there is no difference,both expressions are same.both search whether the key 'cat' is there or not in dictionary spam "
   ]
  },
  {
   "cell_type": "code",
   "execution_count": null,
   "id": "54f05897",
   "metadata": {},
   "outputs": [],
   "source": [
    "#6. If a dictionary is stored in spam, what is the difference between the expressions 'cat' in spam and\n",
    "#'cat' in spam.values()?\n",
    "'cat' in spam -->it will check if 'cat' is there or not in keys of the dictionary\n",
    "'cat' in spam.values()--->it will check  if 'cat' is there or not in values of the dictionary"
   ]
  },
  {
   "cell_type": "code",
   "execution_count": null,
   "id": "9904ff11",
   "metadata": {},
   "outputs": [],
   "source": [
    "'''7. What is a shortcut for the following code?\n",
    "if 'color' not in spam:\n",
    "    spam['color'] = 'black'''\n",
    "spam.setdefault(\"color\",\"black\")"
   ]
  },
  {
   "cell_type": "code",
   "execution_count": 1,
   "id": "bafdb81b",
   "metadata": {},
   "outputs": [
    {
     "name": "stdout",
     "output_type": "stream",
     "text": [
      "{'Name': {'course1': 'datascience', 'course2': 'ml', 'course3': 'dl'},\n",
      " 'nos': [1, 2, 3, 4, 5],\n",
      " 'platform': 'ineuron'}\n"
     ]
    }
   ],
   "source": [
    "#8. How do you'pretty print' dictionary values using which module and function?\n",
    "#using pprint module having pprint function\n",
    "d={ \"platform\": \"ineuron\",\n",
    "   \"nos\":[1,2,3,4,5],\n",
    "   \"Name\": {\"course1\":\"datascience\",\"course2\":\"ml\",\"course3\":\"dl\"}}\n",
    "import pprint\n",
    "pprint.pprint(d)"
   ]
  }
 ],
 "metadata": {
  "kernelspec": {
   "display_name": "Python 3 (ipykernel)",
   "language": "python",
   "name": "python3"
  },
  "language_info": {
   "codemirror_mode": {
    "name": "ipython",
    "version": 3
   },
   "file_extension": ".py",
   "mimetype": "text/x-python",
   "name": "python",
   "nbconvert_exporter": "python",
   "pygments_lexer": "ipython3",
   "version": "3.10.9"
  }
 },
 "nbformat": 4,
 "nbformat_minor": 5
}
